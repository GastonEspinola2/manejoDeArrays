{
 "cells": [
  {
   "cell_type": "code",
   "execution_count": 1,
   "metadata": {},
   "outputs": [
    {
     "name": "stdout",
     "output_type": "stream",
     "text": [
      "Bienvenido al programa de ingreso de datos.\n"
     ]
    },
    {
     "ename": "ValueError",
     "evalue": "invalid literal for int() with base 10: ''",
     "output_type": "error",
     "traceback": [
      "\u001b[31m---------------------------------------------------------------------------\u001b[39m",
      "\u001b[31mValueError\u001b[39m                                Traceback (most recent call last)",
      "\u001b[36mCell\u001b[39m\u001b[36m \u001b[39m\u001b[32mIn[1]\u001b[39m\u001b[32m, line 41\u001b[39m\n\u001b[32m     39\u001b[39m \u001b[38;5;66;03m# Ejecutar el programa\u001b[39;00m\n\u001b[32m     40\u001b[39m \u001b[38;5;28;01mif\u001b[39;00m \u001b[34m__name__\u001b[39m == \u001b[33m\"\u001b[39m\u001b[33m__main__\u001b[39m\u001b[33m\"\u001b[39m:\n\u001b[32m---> \u001b[39m\u001b[32m41\u001b[39m     \u001b[43mmain\u001b[49m\u001b[43m(\u001b[49m\u001b[43m)\u001b[49m\n",
      "\u001b[36mCell\u001b[39m\u001b[36m \u001b[39m\u001b[32mIn[1]\u001b[39m\u001b[32m, line 35\u001b[39m, in \u001b[36mmain\u001b[39m\u001b[34m()\u001b[39m\n\u001b[32m     33\u001b[39m \u001b[38;5;28;01mdef\u001b[39;00m\u001b[38;5;250m \u001b[39m\u001b[34mmain\u001b[39m():\n\u001b[32m     34\u001b[39m     \u001b[38;5;28mprint\u001b[39m(\u001b[33m\"\u001b[39m\u001b[33mBienvenido al programa de ingreso de datos.\u001b[39m\u001b[33m\"\u001b[39m)\n\u001b[32m---> \u001b[39m\u001b[32m35\u001b[39m     personas = \u001b[43mingresar_datos\u001b[49m\u001b[43m(\u001b[49m\u001b[43m)\u001b[49m\n\u001b[32m     36\u001b[39m     mostrar_listados(personas)\n",
      "\u001b[36mCell\u001b[39m\u001b[36m \u001b[39m\u001b[32mIn[1]\u001b[39m\u001b[32m, line 6\u001b[39m, in \u001b[36mingresar_datos\u001b[39m\u001b[34m()\u001b[39m\n\u001b[32m      4\u001b[39m \u001b[38;5;28;01mwhile\u001b[39;00m \u001b[38;5;28;01mTrue\u001b[39;00m:\n\u001b[32m      5\u001b[39m     nombre = \u001b[38;5;28minput\u001b[39m(\u001b[33m\"\u001b[39m\u001b[33mIngrese el nombre: \u001b[39m\u001b[33m\"\u001b[39m)\n\u001b[32m----> \u001b[39m\u001b[32m6\u001b[39m     edad = \u001b[38;5;28;43mint\u001b[39;49m\u001b[43m(\u001b[49m\u001b[38;5;28;43minput\u001b[39;49m\u001b[43m(\u001b[49m\u001b[33;43m\"\u001b[39;49m\u001b[33;43mIngrese la edad: \u001b[39;49m\u001b[33;43m\"\u001b[39;49m\u001b[43m)\u001b[49m\u001b[43m)\u001b[49m\n\u001b[32m      7\u001b[39m     nota = \u001b[38;5;28mfloat\u001b[39m(\u001b[38;5;28minput\u001b[39m(\u001b[33m\"\u001b[39m\u001b[33mIngrese la nota: \u001b[39m\u001b[33m\"\u001b[39m))\n\u001b[32m      9\u001b[39m     personas.append({\u001b[33m\"\u001b[39m\u001b[33mnombre\u001b[39m\u001b[33m\"\u001b[39m: nombre, \u001b[33m\"\u001b[39m\u001b[33medad\u001b[39m\u001b[33m\"\u001b[39m: edad, \u001b[33m\"\u001b[39m\u001b[33mnota\u001b[39m\u001b[33m\"\u001b[39m: nota})\n",
      "\u001b[31mValueError\u001b[39m: invalid literal for int() with base 10: ''"
     ]
    }
   ],
   "source": [
    "def ingresar_datos():\n",
    "    personas = []\n",
    "    \n",
    "    while True:\n",
    "        nombre = input(\"Ingrese el nombre: \")\n",
    "        edad = int(input(\"Ingrese la edad: \"))\n",
    "        nota = float(input(\"Ingrese la nota: \"))\n",
    "        \n",
    "        personas.append({\"nombre\": nombre, \"edad\": edad, \"nota\": nota})\n",
    "        \n",
    "        continuar = input(\"¿Desea ingresar otra persona? (si/no): \").strip().lower()\n",
    "        if continuar != 'si':\n",
    "            break\n",
    "    \n",
    "    return personas\n",
    "\n",
    "\n",
    "def mostrar_listados(personas):\n",
    "    # Mostrar listado completo\n",
    "    print(\"\\nListado completo de personas:\")\n",
    "    for persona in personas:\n",
    "        print(f\"Nombre: {persona['nombre']}, Edad: {persona['edad']}, Nota: {persona['nota']}\")\n",
    "\n",
    "    # Ordenar personas por nota de mayor a menor\n",
    "    personas_ordenadas = sorted(personas, key=lambda x: x['nota'], reverse=True)\n",
    "    \n",
    "    # Mostrar listado ordenado por nota\n",
    "    print(\"\\nListado ordenado por nota (de mayor a menor):\")\n",
    "    for persona in personas_ordenadas:\n",
    "        print(f\"Nombre: {persona['nombre']}, Edad: {persona['edad']}, Nota: {persona['nota']}\")\n",
    "\n",
    "\n",
    "def main():\n",
    "    print(\"Bienvenido al programa de ingreso de datos.\")\n",
    "    personas = ingresar_datos()\n",
    "    mostrar_listados(personas)\n",
    "\n",
    "\n",
    "# Ejecutar el programa\n",
    "if __name__ == \"__main__\":\n",
    "    main()\n"
   ]
  }
 ],
 "metadata": {
  "kernelspec": {
   "display_name": "Python 3",
   "language": "python",
   "name": "python3"
  },
  "language_info": {
   "codemirror_mode": {
    "name": "ipython",
    "version": 3
   },
   "file_extension": ".py",
   "mimetype": "text/x-python",
   "name": "python",
   "nbconvert_exporter": "python",
   "pygments_lexer": "ipython3",
   "version": "3.13.2"
  }
 },
 "nbformat": 4,
 "nbformat_minor": 2
}
