{
 "cells": [
  {
   "cell_type": "code",
   "execution_count": 6,
   "metadata": {},
   "outputs": [
    {
     "name": "stdout",
     "output_type": "stream",
     "text": [
      "Bienvenido al programa de ingreso de datos.\n",
      "\n",
      "Listado completo de personas:\n",
      "Nombre: gas, Edad: 123, Nota: 23.0\n",
      "\n",
      "Listado ordenado por nota (de mayor a menor):\n",
      "Nombre: gas, Edad: 123, Nota: 23.0\n"
     ]
    }
   ],
   "source": [
    "def ingresar_datos():\n",
    "    personas = []\n",
    "    \n",
    "    while True:\n",
    "        nombre = input(\"Ingrese el nombre: \")\n",
    "        edad = int(input(\"Ingrese la edad: \"))\n",
    "        nota = float(input(\"Ingrese la nota: \"))\n",
    "        \n",
    "        personas.append({\"nombre\": nombre, \"edad\": edad, \"nota\": nota})\n",
    "        \n",
    "        continuar = input(\"¿Desea ingresar otra persona? (si/no): \").strip().lower()\n",
    "        if continuar != 'si':\n",
    "            break\n",
    "    \n",
    "    return personas\n",
    "\n",
    "\n",
    "def mostrar_listados(personas):\n",
    "    # Mostrar listado completo\n",
    "    print(\"\\nListado completo de personas:\")\n",
    "    for persona in personas:\n",
    "        print(f\"Nombre: {persona['nombre']}, Edad: {persona['edad']}, Nota: {persona['nota']}\")\n",
    "\n",
    "    # Ordenar personas por nota de mayor a menor\n",
    "    personas_ordenadas = sorted(personas, key=lambda x: x['nota'], reverse=True)\n",
    "    \n",
    "    # Mostrar listado ordenado por nota\n",
    "    print(\"\\nListado ordenado por nota (de mayor a menor):\")\n",
    "    for persona in personas_ordenadas:\n",
    "        print(f\"Nombre: {persona['nombre']}, Edad: {persona['edad']}, Nota: {persona['nota']}\")\n",
    "\n",
    "\n",
    "def main():\n",
    "    print(\"Bienvenido al programa de ingreso de datos.\")\n",
    "    personas = ingresar_datos()\n",
    "    mostrar_listados(personas)\n",
    "\n",
    "\n",
    "# Ejecutar el programa\n",
    "if __name__ == \"__main__\":\n",
    "    main()\n"
   ]
  }
 ],
 "metadata": {
  "kernelspec": {
   "display_name": "Python 3",
   "language": "python",
   "name": "python3"
  },
  "language_info": {
   "codemirror_mode": {
    "name": "ipython",
    "version": 3
   },
   "file_extension": ".py",
   "mimetype": "text/x-python",
   "name": "python",
   "nbconvert_exporter": "python",
   "pygments_lexer": "ipython3",
   "version": "3.13.2"
  }
 },
 "nbformat": 4,
 "nbformat_minor": 2
}
